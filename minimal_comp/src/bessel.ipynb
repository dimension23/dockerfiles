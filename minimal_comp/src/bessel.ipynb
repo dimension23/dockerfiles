{
 "cells": [
  {
   "cell_type": "code",
   "execution_count": 1,
   "metadata": {},
   "outputs": [
    {
     "name": "stdout",
     "output_type": "stream",
     "text": [
      "-0.17759677131433838\n",
      "0.15064525725099703\n",
      "0.30007927051955563\n"
     ]
    }
   ],
   "source": [
    "import scipy.special as spc\n",
    "\n",
    "print(spc.jv(0, 5))\n",
    "print(spc.jv(0, 6))\n",
    "print(spc.jv(0, 7))"
   ]
  }
 ],
 "metadata": {
  "kernelspec": {
   "display_name": "Python 3",
   "language": "python",
   "name": "python3"
  },
  "language_info": {
   "codemirror_mode": {
    "name": "ipython",
    "version": 3
   },
   "file_extension": ".py",
   "mimetype": "text/x-python",
   "name": "python",
   "nbconvert_exporter": "python",
   "pygments_lexer": "ipython3",
   "version": "3.7.3"
  }
 },
 "nbformat": 4,
 "nbformat_minor": 2
}
